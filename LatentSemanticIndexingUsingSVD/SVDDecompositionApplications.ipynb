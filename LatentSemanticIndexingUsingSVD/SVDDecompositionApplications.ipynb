{
 "metadata": {
  "name": "",
  "signature": "sha256:2b5074cd733cd3f9246c3c92d8ca5fcffbc98405327e7a62b048f9eeb92a3f89"
 },
 "nbformat": 3,
 "nbformat_minor": 0,
 "worksheets": [
  {
   "cells": [
    {
     "cell_type": "markdown",
     "metadata": {},
     "source": [
      "#SVD decomposition application in Latent Semantic Indexing (LSI)\n",
      "Latent semantic indexing is a method of discovering hidden concepts in document data. Each document and term (word) is then expressed as vectors. The goal is not describe the concepts verbally, but to be able to represent the documents and terms in a unified way for exposing document-document, document-term, and term-term similarities or semantic relationship which are otherwise hidden"
     ]
    },
    {
     "cell_type": "markdown",
     "metadata": {},
     "source": [
      "Suppose we have the following set of five documents\n",
      "\n",
      "document 1: Romeo and Juliet\n",
      "\n",
      "\n",
      "document 2: Juliet: O happy dagger\n",
      "\n",
      "\n",
      "document 3: Romeo died by dagger\n",
      "\n",
      "\n",
      "document 4: \"Live free or die\", that's the New-Hampshire's motto\n",
      "\n",
      "\n",
      "document 5: Did you know, New-Hampshire is in New-England\n",
      "\n",
      "\n",
      "### Search query : dies and dagger \n",
      "\n",
      "\n",
      "(look for a document that has hidden meaning closest, 2nd closest, 3rd closet to the query document)\n",
      "\n",
      "\n",
      "Clearly, d3 should be ranked top of the list since it contains both dies and dagger. Then, d2 and d4 should follow, each containing a word of the query. However, what about d1 and d5? Should they be returned as possibly interesting results to this query. \n",
      "\n",
      "\n",
      "A question is : Can machine deduce this? The answer is YES, LSI does exactly that. In this example, LSI will be able to see that.\n",
      "\n",
      "\n",
      "The term DAGGER related to 2 terms in d1 are \"Romeo\" and \"Juliet\". Also, term DIE is related to d1 and d5 through d1's term Romeo and d5's term New-Hampshire in in d4 and d5. d1 is double connected to dagger through Romeo and Juliet, also connected to die through Romeo\n",
      "\n",
      "\n",
      "Term document matrix $A$ is m*n matrix, where m is the number of terms in documents and n is the number of documents in the dataset. Elements in the matrix describe the numbers of times a term appearing in a document.\n",
      "\n",
      "\n",
      "|               | d1 | d2 | d3 | d4 | d5 | d_query | general query |\n",
      "|---------------|----|----|----|----|----|---------|---------------|\n",
      "| romeo         | 1  | 0  | 1  | 0  | 0  | 0       | n_times       |\n",
      "| juliet        | 1  | 1  | 0  | 0  | 0  | 0       | m_times       |\n",
      "| happy         | 0  | 1  | 0  | 0  | 0  | 0       | t_times       |\n",
      "| dagger        | 0  | 1  | 1  | 0  | 0  | 1       | k_times       |\n",
      "| live          | 0  | 0  | 0  | 1  | 0  | 0       | z_times       |\n",
      "| die           | 0  | 0  | 1  | 1  | 0  | 1       | t_times       |\n",
      "| free          | 0  | 0  | 0  | 1  | 0  | 0       | h_times       |\n",
      "| new-hampshire | 0  | 0  | 0  | 1  | 1  | 0       | u_times       |\n",
      "\n",
      "           \n",
      "$A = U*S*V^T$\n",
      "\n",
      "the eigenvectors of $(A*A^T)$, term term matrix, make up the columns of $U$ \n",
      "\n",
      "the eigenvectors of $(A^T*A)$, document document matrix, make up the columns of $V$\n",
      "        "
     ]
    },
    {
     "cell_type": "markdown",
     "metadata": {},
     "source": [
      "## Initializing data for latent semantic indexing problem"
     ]
    },
    {
     "cell_type": "code",
     "collapsed": false,
     "input": [
      "import numpy as np\n",
      "\n",
      "#Naive approach to solve the query problem.\n",
      "Term_Document_Matrix = np.array([[1, 0, 1, 0, 0], \n",
      "                                [1, 1, 0, 0, 0], \n",
      "                                [0, 1, 0, 0, 0], \n",
      "                                [0, 1, 1, 0, 0], \n",
      "                                [0, 0, 0, 1, 0], \n",
      "                                [0, 0, 1, 1, 0], \n",
      "                                [0, 0, 0, 1, 0], \n",
      "                                [0, 0, 0, 1, 1]])"
     ],
     "language": "python",
     "metadata": {},
     "outputs": [],
     "prompt_number": 29
    },
    {
     "cell_type": "markdown",
     "metadata": {},
     "source": [
      "$Document Document Matrix$ illustrates the number of words in common between documents. \n",
      "For example, document 1 and document 3 have one word in common (Romeo) -> Document_Document_Matrix[1, 3] = 1\n",
      "\n",
      "\n",
      "$Document Document Matrix_{5*5} = A_{5*8}^T * A_{8*5}$ "
     ]
    },
    {
     "cell_type": "code",
     "collapsed": false,
     "input": [
      "Document_Document_Matrix = Term_Document_Matrix.T.dot(Term_Document_Matrix)\n",
      "print('Document Document matrix is:')\n",
      "print(Document_Document_Matrix)# eigenvectors from this matrix make up V.\n",
      "print('shape: ')\n",
      "print(Document_Document_Matrix.shape)"
     ],
     "language": "python",
     "metadata": {},
     "outputs": [
      {
       "output_type": "stream",
       "stream": "stdout",
       "text": [
        "Document Document matrix is:\n",
        "[[2 1 1 0 0]\n",
        " [1 3 1 0 0]\n",
        " [1 1 3 1 0]\n",
        " [0 0 1 4 1]\n",
        " [0 0 0 1 1]]\n",
        "shape: \n",
        "(5, 5)\n"
       ]
      }
     ],
     "prompt_number": 30
    },
    {
     "cell_type": "markdown",
     "metadata": {},
     "source": [
      "$Term Term Matrix$ demonstrates the number of times two words appeared in a same document\n",
      "\n",
      "$Term Term Matrix_{8*8} = A_{8*5} * A_{5*8}^T$"
     ]
    },
    {
     "cell_type": "code",
     "collapsed": false,
     "input": [
      "Term_Term_Matrix = Term_Document_Matrix.dot(Term_Document_Matrix.T)\n",
      "print('Term term matrix is:')\n",
      "print(Term_Term_Matrix) #eigenvectors from this matrix make up U\n",
      "print('shape: ')\n",
      "print(Term_Term_Matrix.shape)"
     ],
     "language": "python",
     "metadata": {},
     "outputs": [
      {
       "output_type": "stream",
       "stream": "stdout",
       "text": [
        "Term term matrix is:\n",
        "[[2 1 0 1 0 1 0 0]\n",
        " [1 2 1 1 0 0 0 0]\n",
        " [0 1 1 1 0 0 0 0]\n",
        " [1 1 1 2 0 1 0 0]\n",
        " [0 0 0 0 1 1 1 1]\n",
        " [1 0 0 1 1 2 1 1]\n",
        " [0 0 0 0 1 1 1 1]\n",
        " [0 0 0 0 1 1 1 2]]\n",
        "shape: \n",
        "(8, 8)\n"
       ]
      }
     ],
     "prompt_number": 31
    },
    {
     "cell_type": "code",
     "collapsed": false,
     "input": [
      "#eigendecomposition \n",
      "U, s, V = np.linalg.svd(Term_Document_Matrix)\n",
      "print('U shape')\n",
      "print(U.shape)\n",
      "# print(U)\n",
      "print('S shape')\n",
      "print(s.shape)\n",
      "# print(s)\n",
      "print('V shape')\n",
      "print(V.shape)\n",
      "# print(V)\n"
     ],
     "language": "python",
     "metadata": {},
     "outputs": [
      {
       "output_type": "stream",
       "stream": "stdout",
       "text": [
        "U shape\n",
        "(8, 8)\n",
        "S shape\n",
        "(5,)\n",
        "V shape\n",
        "(5, 5)\n"
       ]
      }
     ],
     "prompt_number": 32
    },
    {
     "cell_type": "markdown",
     "metadata": {},
     "source": [
      "##Compressing data using the 3 highest eigenvalues corresponding 3 eigenvectors"
     ]
    },
    {
     "cell_type": "code",
     "collapsed": false,
     "input": [
      "#compress data using the 3 highest eigenvalues corresponding 3 eigenvectors\n",
      "Term_Document_Compress = np.dot(np.dot( U[:, :3], np.diag(s[:3])), V[:3,:])\n",
      "print(Term_Document_Compress)\n",
      "print(Term_Document_Compress.shape)"
     ],
     "language": "python",
     "metadata": {},
     "outputs": [
      {
       "output_type": "stream",
       "stream": "stdout",
       "text": [
        "[[  5.77481234e-01   1.47269599e-01   1.16311908e+00   2.81296292e-04\n",
        "   -1.80502976e-01]\n",
        " [  4.85303558e-01   1.15926671e+00   2.39447276e-01  -8.44729215e-02\n",
        "    2.60912139e-02]\n",
        " [  2.43018357e-01   9.16248350e-01  -9.57487579e-02   3.85237756e-03\n",
        "    9.21776767e-02]\n",
        " [  5.78214391e-01   8.20499592e-01   7.32174293e-01   9.24589729e-02\n",
        "   -2.22388363e-02]\n",
        " [ -8.83252991e-02   3.85237756e-03   8.86065954e-02   8.86586054e-01\n",
        "    2.91348407e-01]\n",
        " [  2.46870735e-01  -9.18963804e-02   9.16529646e-01   9.75192650e-01\n",
        "    1.76931894e-01]\n",
        " [ -8.83252991e-02   3.85237756e-03   8.86065954e-02   8.86586054e-01\n",
        "    2.91348407e-01]\n",
        " [ -1.54411762e-01   9.60300542e-02  -2.58099176e-02   1.17793446e+00\n",
        "    4.18305752e-01]]\n",
        "(8, 5)\n"
       ]
      }
     ],
     "prompt_number": 17
    },
    {
     "cell_type": "markdown",
     "metadata": {},
     "source": [
      "##Compressing data using the 2 highest eigenvalues corresponding 2 eigenvectors"
     ]
    },
    {
     "cell_type": "code",
     "collapsed": false,
     "input": [
      "New_Term_Representation = np.dot(U[:, :2], np.diag(s[:2]))\n",
      "print(New_Term_Representation)\n",
      "\n",
      "New_Document_Representation = np.dot(np.diag(s[:2]), V[:2, :])\n",
      "print(New_Document_Representation)"
     ],
     "language": "python",
     "metadata": {},
     "outputs": [
      {
       "output_type": "stream",
       "stream": "stdout",
       "text": [
        "[[-0.90532712  0.56298763]\n",
        " [-0.71819615  0.90367568]\n",
        " [-0.40733041  0.54074246]\n",
        " [-1.00179178  0.74079687]\n",
        " [-0.60304575 -0.6953914 ]\n",
        " [-1.19750713 -0.49533699]\n",
        " [-0.60304575 -0.6953914 ]\n",
        " [-0.74586005 -0.92405295]]\n",
        "[[-0.71042084 -0.93087134 -1.35852135 -1.37813921 -0.32637322]\n",
        " [ 0.7295895   1.08703198  0.40216102 -1.39791629 -0.45966878]]\n"
       ]
      }
     ],
     "prompt_number": 18
    },
    {
     "cell_type": "code",
     "collapsed": false,
     "input": [
      "query_document = np.array([0, 0, 0, 1, 0, 1, 0, 0]) #searching document\n",
      "\n",
      "#project the query document vector into 2 eigenvectors corresponding to 2 largest eigenvalues\n",
      "query_document_new_representation = np.dot(U[:, :2].T, query_document)\n",
      "print(query_document_new_representation)"
     ],
     "language": "python",
     "metadata": {},
     "outputs": [
      {
       "output_type": "stream",
       "stream": "stdout",
       "text": [
        "[-0.96236857  0.12210365]\n"
       ]
      }
     ],
     "prompt_number": 19
    },
    {
     "cell_type": "code",
     "collapsed": false,
     "input": [
      "search_result = np.dot(query_document_new_representation, New_Document_Representation)\n",
      "print(search_result) #not normalization  di*q/(|di|*|q|)\n"
     ],
     "language": "python",
     "metadata": {},
     "outputs": [
      {
       "output_type": "stream",
       "stream": "stdout",
       "text": [
        "[ 0.77277223  1.0285719   1.35650358  1.15558718  0.2579641 ]\n"
       ]
      }
     ],
     "prompt_number": 20
    },
    {
     "cell_type": "code",
     "collapsed": false,
     "input": [
      "distance_vector = New_Document_Representation.T *  query_document_new_representation.T\n",
      "print(distance_vector)\n",
      "cosine_distance = np.linalg.norm(distance_vector, axis = 1)\n",
      "print(cosine_distance)"
     ],
     "language": "python",
     "metadata": {},
     "outputs": [
      {
       "output_type": "stream",
       "stream": "stdout",
       "text": [
        "[[ 0.68368669  0.08908554]\n",
        " [ 0.89584132  0.13273058]\n",
        " [ 1.30739825  0.04910533]\n",
        " [ 1.32627787 -0.17069069]\n",
        " [ 0.31409133 -0.05612724]]\n",
        "[ 0.68946626  0.90562082  1.30832011  1.33721662  0.31906682]\n"
       ]
      }
     ],
     "prompt_number": 21
    },
    {
     "cell_type": "code",
     "collapsed": false,
     "input": [
      "cosine_similarity = []\n",
      "for i in range(5):\n",
      "   similarity = New_Document_Representation.T[i, :].dot(query_document_new_representation.T)\n",
      "   similarity /= np.linalg.norm(New_Document_Representation.T[i, :])\n",
      "   similarity /= np.linalg.norm(query_document_new_representation.T)\n",
      "   cosine_similarity.append(similarity)\n",
      "\n",
      "print(cosine_similarity)"
     ],
     "language": "python",
     "metadata": {},
     "outputs": [
      {
       "output_type": "stream",
       "stream": "stdout",
       "text": [
        "[0.78226368540146252, 0.74087248356594027, 0.98697025756492818, 0.60683315030773932, 0.47169677639099056]\n"
       ]
      }
     ],
     "prompt_number": 22
    },
    {
     "cell_type": "markdown",
     "metadata": {},
     "source": [
      "The above result shows that d1 has closer meaning to the query document than d5. Surprisingly, d1 has slightly closer meaning to query document than d2, although d2 has explicit one word in the search query. "
     ]
    },
    {
     "cell_type": "markdown",
     "metadata": {},
     "source": [
      "##Plot document vectors in 2D space\n"
     ]
    },
    {
     "cell_type": "code",
     "collapsed": false,
     "input": [
      "import matplotlib.pyplot as plt\n",
      "\n",
      "%matplotlib inline\n",
      "plt.rcParams['figure.figsize'] = (10.0, 8.0) # set default size of plots\n",
      "plt.rcParams['image.interpolation'] = 'nearest'\n",
      "plt.rcParams['image.cmap'] = 'gray'\n",
      "\n",
      "title = ['d{0}'.format(i) for i in np.arange(1,6)]\n",
      "plt.scatter(query_document_new_representation[0], query_document_new_representation[1], s = 25)\n",
      "plt.scatter(New_Document_Representation[0, :], New_Document_Representation[1, :], s = 25, c = 'red')\n",
      "\n",
      "origin = [0.0, 0.0]\n",
      "\n",
      "for idx, (label, x, y) in enumerate(zip(title, New_Document_Representation[0, :], New_Document_Representation[1, :])):\n",
      "    plt.annotate(\n",
      "        label,\n",
      "        xy=(x, y), xytext=(-20, 20),\n",
      "        textcoords='offset points', ha='right', va='bottom',\n",
      "        bbox=dict(boxstyle='round,pad=0.5', fc='yellow', alpha=0.5),\n",
      "        arrowprops=dict(arrowstyle = '->', connectionstyle='arc3,rad=0'))\n",
      "    plt.plot([origin[0],New_Document_Representation[0, idx]], [ origin[1], New_Document_Representation[1, idx]])\n",
      "plt.show()\n",
      "\n",
      "\n",
      "\n",
      "# title = ['d1', 'd2', 'd3', 'd4', 'd5']\n",
      "# fig, ax = plt.subplots()\n",
      "# for i, txt in enumerate(title):\n",
      "#     ax.annotate(txt, (New_Document_Representation[0, i], New_Document_Representation[1, i]))"
     ],
     "language": "python",
     "metadata": {},
     "outputs": [
      {
       "metadata": {},
       "output_type": "display_data",
       "png": "[encoded data removed]",
       "text": [
        "<matplotlib.figure.Figure at 0x7fabbab80320>"
       ]
      }
     ],
     "prompt_number": 49
    },
    {
     "cell_type": "code",
     "collapsed": false,
     "input": [
      "#SVD decomposition application in compressing images"
     ],
     "language": "python",
     "metadata": {},
     "outputs": []
    }
   ],
   "metadata": {}
  }
 ]
}